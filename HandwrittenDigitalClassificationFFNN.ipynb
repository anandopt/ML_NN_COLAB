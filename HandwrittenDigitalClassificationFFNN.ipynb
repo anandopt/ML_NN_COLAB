{
 "cells": [
  {
   "cell_type": "code",
   "execution_count": 0,
   "metadata": {
    "id": "EVBBM9QHwUT7",
    "colab_type": "code",
    "colab": {}
   },
   "outputs": [],
   "source": [
    "# Install the PyDrive wrapper & import libraries.\n",
    "# This only needs to be done once per notebook.\n",
    "\n",
    "!pip install -U -q PyDrive\n",
    "from pydrive.auth import GoogleAuth\n",
    "from pydrive.drive import GoogleDrive\n",
    "from google.colab import auth\n",
    "from oauth2client.client import GoogleCredentials\n",
    "\n",
    "\n",
    "# Authenticate and create the PyDrive client.\n",
    "# This only needs to be done once per notebook.\n",
    "auth.authenticate_user()\n",
    "gauth = GoogleAuth()\n",
    "gauth.credentials = GoogleCredentials.get_application_default()\n",
    "drive = GoogleDrive(gauth)\n",
    "\n",
    "# Download a file based on its file ID.\n",
    "# A file ID looks like: laggVyWshwcyP6kEI-y_W3P8D26sz\n",
    "file_id = '1GhyH4k9C4uPRnMAMKhJYOqa-V9Tqt4q8' ### File ID ###\n",
    "data = drive.CreateFile({'id': file_id})\n",
    "#print('Downloaded content \"{}\"'.format(downloaded.GetContentString()))\n"
   ]
  },
  {
   "cell_type": "markdown",
   "metadata": {
    "id": "cLKUmhm9sEiG",
    "colab_type": "text"
   },
   "source": [
    "Designing NN"
   ]
  },
  {
   "cell_type": "code",
   "execution_count": 3,
   "metadata": {
    "id": "G0-D1q8ivF07",
    "colab_type": "code",
    "colab": {
     "base_uri": "https://localhost:8080/",
     "height": 1547.0
    },
    "outputId": "b6fb50f4-3e08-4b81-b83a-521a3b10a107",
    "executionInfo": {
     "status": "ok",
     "timestamp": 1.549958519083E12,
     "user_tz": -330.0,
     "elapsed": 40968.0,
     "user": {
      "displayName": "Anand Srivastava",
      "photoUrl": "https://lh5.googleusercontent.com/-sRoINlE7S7A/AAAAAAAAAAI/AAAAAAAAE7U/zv_YniHhgfk/s64/photo.jpg",
      "userId": "08176550738316076740"
     }
    }
   },
   "outputs": [
    {
     "name": "stdout",
     "output_type": "stream",
     "text": [
      "Collecting flair\n",
      "\u001b[?25l  Downloading https://files.pythonhosted.org/packages/cc/6a/fea4f9533feea65f8b2ff3d6a9934dba6227df81bbc180915cbd30c5db95/flair-0.4.0.tar.gz (70kB)\n",
      "\r\u001b[K    14% |████▋                           | 10kB 12.5MB/s eta 0:00:01\r\u001b[K    28% |█████████▎                      | 20kB 3.2MB/s eta 0:00:01\r\u001b[K    43% |██████████████                  | 30kB 4.5MB/s eta 0:00:01\r\u001b[K    57% |██████████████████▌             | 40kB 2.9MB/s eta 0:00:01\r\u001b[K    72% |███████████████████████▏        | 51kB 3.6MB/s eta 0:00:01\r\u001b[K    86% |███████████████████████████▉    | 61kB 4.2MB/s eta 0:00:01\r\u001b[K    100% |████████████████████████████████| 71kB 4.4MB/s \n",
      "\u001b[?25hRequirement already satisfied: torch==1.0.0 in /usr/local/lib/python3.6/dist-packages (from flair) (1.0.0)\n",
      "Collecting gensim==3.4.0 (from flair)\n",
      "\u001b[?25l  Downloading https://files.pythonhosted.org/packages/33/33/df6cb7acdcec5677ed130f4800f67509d24dbec74a03c329fcbf6b0864f0/gensim-3.4.0-cp36-cp36m-manylinux1_x86_64.whl (22.6MB)\n",
      "\u001b[K    100% |████████████████████████████████| 22.6MB 1.7MB/s \n",
      "\u001b[?25hCollecting typing==3.6.4 (from flair)\n",
      "  Downloading https://files.pythonhosted.org/packages/05/2b/2b05bf1d5a9dd450447c9a5df3e118a465e5d3cb12b73b7220a5064a403f/typing-3.6.4-py3-none-any.whl\n",
      "Collecting tqdm==4.26.0 (from flair)\n",
      "\u001b[?25l  Downloading https://files.pythonhosted.org/packages/79/43/19c9fee28110cd47f73e6bc596394337fe9f3e5825b4de402bbf30b3beb5/tqdm-4.26.0-py2.py3-none-any.whl (43kB)\n",
      "\u001b[K    100% |████████████████████████████████| 51kB 10.8MB/s \n",
      "\u001b[?25hCollecting segtok==1.5.7 (from flair)\n",
      "  Downloading https://files.pythonhosted.org/packages/1d/59/6ed78856ab99d2da04084b59e7da797972baa0efecb71546b16d48e49d9b/segtok-1.5.7.tar.gz\n",
      "Collecting matplotlib==3.0.0 (from flair)\n",
      "\u001b[?25l  Downloading https://files.pythonhosted.org/packages/ed/89/dd823436a5f8d5ca9304b51b554863bfd366ca84708d5812f5ee87c923bc/matplotlib-3.0.0-cp36-cp36m-manylinux1_x86_64.whl (12.8MB)\n",
      "\u001b[K    100% |████████████████████████████████| 12.8MB 2.9MB/s \n",
      "\u001b[?25hCollecting mpld3==0.3 (from flair)\n",
      "\u001b[?25l  Downloading https://files.pythonhosted.org/packages/91/95/a52d3a83d0a29ba0d6898f6727e9858fe7a43f6c2ce81a5fe7e05f0f4912/mpld3-0.3.tar.gz (788kB)\n",
      "\u001b[K    100% |████████████████████████████████| 798kB 24.1MB/s \n",
      "\u001b[?25hRequirement already satisfied: sklearn in /usr/local/lib/python3.6/dist-packages (from flair) (0.0)\n",
      "Collecting sqlitedict==1.6.0 (from flair)\n",
      "  Downloading https://files.pythonhosted.org/packages/0f/1c/c757b93147a219cf1e25cef7e1ad9b595b7f802159493c45ce116521caff/sqlitedict-1.6.0.tar.gz\n",
      "Collecting deprecated==1.2.4 (from flair)\n",
      "  Downloading https://files.pythonhosted.org/packages/a9/cb/c1a39ee51e3042df8b284e22c9c440ffad1c25f451bddd4bf9a8dc17cd75/Deprecated-1.2.4-py2.py3-none-any.whl\n",
      "Requirement already satisfied: hyperopt==0.1.1 in /usr/local/lib/python3.6/dist-packages (from flair) (0.1.1)\n",
      "Collecting pytorch-pretrained-bert==0.3.0 (from flair)\n",
      "  Downloading https://files.pythonhosted.org/packages/26/85/de4dd7e018a197280752881adf7b4142886f20155145f641f7c803c0018a/pytorch_pretrained_bert-0.3.0-py3-none-any.whl\n",
      "Requirement already satisfied: scipy>=0.18.1 in /usr/local/lib/python3.6/dist-packages (from gensim==3.4.0->flair) (1.1.0)\n",
      "Requirement already satisfied: numpy>=1.11.3 in /usr/local/lib/python3.6/dist-packages (from gensim==3.4.0->flair) (1.14.6)\n",
      "Requirement already satisfied: six>=1.5.0 in /usr/local/lib/python3.6/dist-packages (from gensim==3.4.0->flair) (1.11.0)\n",
      "Requirement already satisfied: smart-open>=1.2.1 in /usr/local/lib/python3.6/dist-packages (from gensim==3.4.0->flair) (1.8.0)\n",
      "Requirement already satisfied: regex in /usr/local/lib/python3.6/dist-packages (from segtok==1.5.7->flair) (2018.1.10)\n",
      "Requirement already satisfied: pyparsing!=2.0.4,!=2.1.2,!=2.1.6,>=2.0.1 in /usr/local/lib/python3.6/dist-packages (from matplotlib==3.0.0->flair) (2.3.1)\n",
      "Requirement already satisfied: python-dateutil>=2.1 in /usr/local/lib/python3.6/dist-packages (from matplotlib==3.0.0->flair) (2.5.3)\n",
      "Requirement already satisfied: kiwisolver>=1.0.1 in /usr/local/lib/python3.6/dist-packages (from matplotlib==3.0.0->flair) (1.0.1)\n",
      "Requirement already satisfied: cycler>=0.10 in /usr/local/lib/python3.6/dist-packages (from matplotlib==3.0.0->flair) (0.10.0)\n",
      "Requirement already satisfied: scikit-learn in /usr/local/lib/python3.6/dist-packages (from sklearn->flair) (0.20.2)\n",
      "Requirement already satisfied: wrapt<2,>=1 in /usr/local/lib/python3.6/dist-packages (from deprecated==1.2.4->flair) (1.11.1)\n",
      "Requirement already satisfied: future in /usr/local/lib/python3.6/dist-packages (from hyperopt==0.1.1->flair) (0.16.0)\n",
      "Requirement already satisfied: pymongo in /usr/local/lib/python3.6/dist-packages (from hyperopt==0.1.1->flair) (3.7.2)\n",
      "Requirement already satisfied: networkx in /usr/local/lib/python3.6/dist-packages (from hyperopt==0.1.1->flair) (2.2)\n",
      "Requirement already satisfied: requests in /usr/local/lib/python3.6/dist-packages (from pytorch-pretrained-bert==0.3.0->flair) (2.18.4)\n",
      "Requirement already satisfied: boto3 in /usr/local/lib/python3.6/dist-packages (from pytorch-pretrained-bert==0.3.0->flair) (1.9.90)\n",
      "Requirement already satisfied: boto>=2.32 in /usr/local/lib/python3.6/dist-packages (from smart-open>=1.2.1->gensim==3.4.0->flair) (2.49.0)\n",
      "Requirement already satisfied: bz2file in /usr/local/lib/python3.6/dist-packages (from smart-open>=1.2.1->gensim==3.4.0->flair) (0.98)\n",
      "Requirement already satisfied: setuptools in /usr/local/lib/python3.6/dist-packages (from kiwisolver>=1.0.1->matplotlib==3.0.0->flair) (40.8.0)\n",
      "Requirement already satisfied: decorator>=4.3.0 in /usr/local/lib/python3.6/dist-packages (from networkx->hyperopt==0.1.1->flair) (4.3.2)\n",
      "Requirement already satisfied: certifi>=2017.4.17 in /usr/local/lib/python3.6/dist-packages (from requests->pytorch-pretrained-bert==0.3.0->flair) (2018.11.29)\n",
      "Requirement already satisfied: urllib3<1.23,>=1.21.1 in /usr/local/lib/python3.6/dist-packages (from requests->pytorch-pretrained-bert==0.3.0->flair) (1.22)\n",
      "Requirement already satisfied: chardet<3.1.0,>=3.0.2 in /usr/local/lib/python3.6/dist-packages (from requests->pytorch-pretrained-bert==0.3.0->flair) (3.0.4)\n",
      "Requirement already satisfied: idna<2.7,>=2.5 in /usr/local/lib/python3.6/dist-packages (from requests->pytorch-pretrained-bert==0.3.0->flair) (2.6)\n",
      "Requirement already satisfied: jmespath<1.0.0,>=0.7.1 in /usr/local/lib/python3.6/dist-packages (from boto3->pytorch-pretrained-bert==0.3.0->flair) (0.9.3)\n",
      "Requirement already satisfied: botocore<1.13.0,>=1.12.90 in /usr/local/lib/python3.6/dist-packages (from boto3->pytorch-pretrained-bert==0.3.0->flair) (1.12.90)\n",
      "Requirement already satisfied: s3transfer<0.3.0,>=0.2.0 in /usr/local/lib/python3.6/dist-packages (from boto3->pytorch-pretrained-bert==0.3.0->flair) (0.2.0)\n",
      "Requirement already satisfied: docutils>=0.10 in /usr/local/lib/python3.6/dist-packages (from botocore<1.13.0,>=1.12.90->boto3->pytorch-pretrained-bert==0.3.0->flair) (0.14)\n",
      "Building wheels for collected packages: flair, segtok, mpld3, sqlitedict\n",
      "  Building wheel for flair (setup.py) ... \u001b[?25ldone\n",
      "\u001b[?25h  Stored in directory: /root/.cache/pip/wheels/54/1c/24/39ec59521bb1a83306cf5224a50f99aad60b55dd3b42d32ed0\n",
      "  Building wheel for segtok (setup.py) ... \u001b[?25ldone\n",
      "\u001b[?25h  Stored in directory: /root/.cache/pip/wheels/15/ee/a8/6112173f1386d33eebedb3f73429cfa41a4c3084556bcee254\n",
      "  Building wheel for mpld3 (setup.py) ... \u001b[?25ldone\n",
      "\u001b[?25h  Stored in directory: /root/.cache/pip/wheels/c0/47/fb/8a64f89aecfe0059830479308ad42d62e898a3e3cefdf6ba28\n",
      "  Building wheel for sqlitedict (setup.py) ... \u001b[?25ldone\n",
      "\u001b[?25h  Stored in directory: /root/.cache/pip/wheels/bd/57/d3/907c3ee02d35e66f674ad0106e61f06eeeb98f6ee66a6cc3fe\n",
      "Successfully built flair segtok mpld3 sqlitedict\n",
      "\u001b[31myellowbrick 0.9.1 has requirement matplotlib!=3.0.0,>=1.5.1, but you'll have matplotlib 3.0.0 which is incompatible.\u001b[0m\n",
      "\u001b[31mthinc 6.12.1 has requirement wrapt<1.11.0,>=1.10.0, but you'll have wrapt 1.11.1 which is incompatible.\u001b[0m\n",
      "\u001b[31mspacy 2.0.18 has requirement numpy>=1.15.0, but you'll have numpy 1.14.6 which is incompatible.\u001b[0m\n",
      "\u001b[31mpymc3 3.6 has requirement joblib<0.13.0, but you'll have joblib 0.13.1 which is incompatible.\u001b[0m\n",
      "\u001b[31mfeaturetools 0.4.1 has requirement pandas>=0.23.0, but you'll have pandas 0.22.0 which is incompatible.\u001b[0m\n",
      "Installing collected packages: gensim, typing, tqdm, segtok, matplotlib, mpld3, sqlitedict, deprecated, pytorch-pretrained-bert, flair\n",
      "  Found existing installation: gensim 3.6.0\n",
      "    Uninstalling gensim-3.6.0:\n",
      "      Successfully uninstalled gensim-3.6.0\n",
      "  Found existing installation: typing 3.6.6\n",
      "    Uninstalling typing-3.6.6:\n",
      "      Successfully uninstalled typing-3.6.6\n",
      "  Found existing installation: tqdm 4.28.1\n",
      "    Uninstalling tqdm-4.28.1:\n",
      "      Successfully uninstalled tqdm-4.28.1\n",
      "  Found existing installation: matplotlib 3.0.2\n",
      "    Uninstalling matplotlib-3.0.2:\n",
      "      Successfully uninstalled matplotlib-3.0.2\n",
      "Successfully installed deprecated-1.2.4 flair-0.4.0 gensim-3.4.0 matplotlib-3.0.0 mpld3-0.3 pytorch-pretrained-bert-0.3.0 segtok-1.5.7 sqlitedict-1.6.0 tqdm-4.26.0 typing-3.6.4\n"
     ]
    },
    {
     "data": {},
     "metadata": {
      "tags": []
     },
     "output_type": "display_data"
    }
   ],
   "source": [
    "import tensorflow as tf\n",
    "import os\n",
    "import sys, json\n",
    "from pprint import pprint\n",
    "import requests\n",
    "import pandas as pd\n",
    "import numpy as np\n",
    "import torch\n",
    "!pip install flair\n",
    "import flair"
   ]
  },
  {
   "cell_type": "code",
   "execution_count": 4,
   "metadata": {
    "id": "UqZIofsgLCWF",
    "colab_type": "code",
    "outputId": "9521055f-399c-4c48-ba90-d3c85b490752",
    "executionInfo": {
     "status": "ok",
     "timestamp": 1.549958519085E12,
     "user_tz": -330.0,
     "elapsed": 40956.0,
     "user": {
      "displayName": "Anand Srivastava",
      "photoUrl": "https://lh5.googleusercontent.com/-sRoINlE7S7A/AAAAAAAAAAI/AAAAAAAAE7U/zv_YniHhgfk/s64/photo.jpg",
      "userId": "08176550738316076740"
     }
    },
    "colab": {
     "base_uri": "https://localhost:8080/",
     "height": 34.0
    }
   },
   "outputs": [
    {
     "data": {
      "text/plain": [
       "torch.Size([1, 5])"
      ]
     },
     "execution_count": 4,
     "metadata": {
      "tags": []
     },
     "output_type": "execute_result"
    }
   ],
   "source": [
    "n_input, n_hidden, n_output = 5,3,1\n",
    "\n",
    "### initialize tensor parameters\n",
    "x = torch.randn((1, n_input))\n",
    "y = torch.randn((1, n_output))\n",
    "np.shape(x)"
   ]
  },
  {
   "cell_type": "code",
   "execution_count": 0,
   "metadata": {
    "id": "NB4dt27JLg2w",
    "colab_type": "code",
    "colab": {}
   },
   "outputs": [],
   "source": [
    "## initialize weights and biases\n",
    "w1 = torch.randn((n_input, n_hidden))\n",
    "w2 = torch.randn((n_hidden, n_output))\n",
    "b1 = torch.randn((1, n_hidden))\n",
    "b2 = torch.randn((1, n_output))"
   ]
  },
  {
   "cell_type": "code",
   "execution_count": 6,
   "metadata": {
    "id": "IgXft0c5MAw4",
    "colab_type": "code",
    "outputId": "e477e145-738e-4e8e-c4bd-b562c783bad4",
    "executionInfo": {
     "status": "ok",
     "timestamp": 1.54995851909E12,
     "user_tz": -330.0,
     "elapsed": 40935.0,
     "user": {
      "displayName": "Anand Srivastava",
      "photoUrl": "https://lh5.googleusercontent.com/-sRoINlE7S7A/AAAAAAAAAAI/AAAAAAAAE7U/zv_YniHhgfk/s64/photo.jpg",
      "userId": "08176550738316076740"
     }
    },
    "colab": {
     "base_uri": "https://localhost:8080/",
     "height": 85.0
    }
   },
   "outputs": [
    {
     "data": {
      "text/plain": [
       "(tensor([[ 3.1421,  6.8952, -2.7946]]),\n",
       " tensor([[0.1612]]),\n",
       " tensor([[0.9586, 0.9990, 0.0576]]),\n",
       " tensor([[0.5402]]))"
      ]
     },
     "execution_count": 6,
     "metadata": {
      "tags": []
     },
     "output_type": "execute_result"
    }
   ],
   "source": [
    "### Sigmoid activation function\n",
    "def sigmoid_activation(z):\n",
    "  return 1/(1 + torch.exp(-z))\n",
    "\n",
    "### Activation of hidden layer\n",
    "z1 = torch.mm(x, w1) + b1\n",
    "a1 = sigmoid_activation(z1)\n",
    "\n",
    "### Activation of output layer\n",
    "z2 = torch.mm(a1, w2) + b2\n",
    "output = sigmoid_activation(z2)\n",
    "\n",
    "z1, z2, a1, output"
   ]
  },
  {
   "cell_type": "code",
   "execution_count": 0,
   "metadata": {
    "id": "paCT9IYiO5Po",
    "colab_type": "code",
    "colab": {}
   },
   "outputs": [],
   "source": [
    "### Loss calculation\n",
    "loss = y-output"
   ]
  },
  {
   "cell_type": "code",
   "execution_count": 0,
   "metadata": {
    "id": "aBKfpsgXPn3A",
    "colab_type": "code",
    "colab": {}
   },
   "outputs": [],
   "source": [
    "### Backpropogation\n",
    "### Derivative of activation\n",
    "def sigmoid_delta(x):\n",
    "  return x*(1-x)"
   ]
  },
  {
   "cell_type": "code",
   "execution_count": 0,
   "metadata": {
    "id": "4Am_TBWZQLeo",
    "colab_type": "code",
    "colab": {}
   },
   "outputs": [],
   "source": [
    "### Derivative of error terms\n",
    "delta_output = sigmoid_delta(output)\n",
    "delta_hidden = sigmoid_delta(a1)"
   ]
  },
  {
   "cell_type": "code",
   "execution_count": 0,
   "metadata": {
    "id": "Du16X6ygRKOI",
    "colab_type": "code",
    "colab": {}
   },
   "outputs": [],
   "source": [
    "### Backpropagate erors to previous layer\n",
    "d_output = loss * delta_output\n",
    "loss_h = torch.mm(d_output, w2.t())\n",
    "d_hid = loss_h * delta_hidden"
   ]
  },
  {
   "cell_type": "code",
   "execution_count": 0,
   "metadata": {
    "id": "SJvSWGNEiFN5",
    "colab_type": "code",
    "colab": {}
   },
   "outputs": [],
   "source": [
    "learning_rate = 0.1"
   ]
  },
  {
   "cell_type": "code",
   "execution_count": 12,
   "metadata": {
    "id": "vYXRQyK7iKQy",
    "colab_type": "code",
    "outputId": "34a995bb-2624-49e7-d1e3-35dca2350867",
    "executionInfo": {
     "status": "ok",
     "timestamp": 1.549958519112E12,
     "user_tz": -330.0,
     "elapsed": 40935.0,
     "user": {
      "displayName": "Anand Srivastava",
      "photoUrl": "https://lh5.googleusercontent.com/-sRoINlE7S7A/AAAAAAAAAAI/AAAAAAAAE7U/zv_YniHhgfk/s64/photo.jpg",
      "userId": "08176550738316076740"
     }
    },
    "colab": {
     "base_uri": "https://localhost:8080/",
     "height": 136.0
    }
   },
   "outputs": [
    {
     "data": {
      "text/plain": [
       "(tensor([[-0.9253, -0.7148,  0.5233],\n",
       "         [-1.0332, -0.8747, -0.7725],\n",
       "         [-1.9024, -0.5898,  0.4298],\n",
       "         [ 2.8668, -0.5807,  0.0718],\n",
       "         [-2.1285,  2.3066, -1.5187]]), tensor([[-1.6881],\n",
       "         [ 1.2383],\n",
       "         [-1.2532]]), tensor([[-0.5927,  1.0399,  1.4411]]), tensor([[0.5510]]))"
      ]
     },
     "execution_count": 12,
     "metadata": {
      "tags": []
     },
     "output_type": "execute_result"
    }
   ],
   "source": [
    "### Updating weights and biases\n",
    "w2 += torch.mm(a1.t(), d_output)*learning_rate\n",
    "w1 += torch.mm(x.t(), d_hid)*learning_rate\n",
    "\n",
    "b2 += d_output.sum()*learning_rate\n",
    "b1 += d_hid.sum()*learning_rate\n",
    "w1, w2, b1, b2"
   ]
  },
  {
   "cell_type": "code",
   "execution_count": 13,
   "metadata": {
    "id": "ajEnYii_30Es",
    "colab_type": "code",
    "outputId": "40e8bb5f-225e-4277-85fd-dfe52b4cccc3",
    "executionInfo": {
     "status": "ok",
     "timestamp": 1.549958522212E12,
     "user_tz": -330.0,
     "elapsed": 44016.0,
     "user": {
      "displayName": "Anand Srivastava",
      "photoUrl": "https://lh5.googleusercontent.com/-sRoINlE7S7A/AAAAAAAAAAI/AAAAAAAAE7U/zv_YniHhgfk/s64/photo.jpg",
      "userId": "08176550738316076740"
     }
    },
    "colab": {
     "base_uri": "https://localhost:8080/",
     "height": 272.0
    }
   },
   "outputs": [
    {
     "name": "stdout",
     "output_type": "stream",
     "text": [
      "Downloading http://yann.lecun.com/exdb/mnist/train-images-idx3-ubyte.gz\n",
      "Downloading http://yann.lecun.com/exdb/mnist/train-labels-idx1-ubyte.gz\n",
      "Downloading http://yann.lecun.com/exdb/mnist/t10k-images-idx3-ubyte.gz\n",
      "Downloading http://yann.lecun.com/exdb/mnist/t10k-labels-idx1-ubyte.gz\n",
      "Processing...\n",
      "Done!\n"
     ]
    },
    {
     "data": {
      "text/plain": [
       "Dataset MNIST\n",
       "    Number of datapoints: 60000\n",
       "    Split: train\n",
       "    Root Location: anand\n",
       "    Transforms (if any): Compose(\n",
       "                             ToTensor()\n",
       "                             Normalize(mean=(0.5, 0.5, 0.5), std=(0.5, 0.5, 0.5))\n",
       "                         )\n",
       "    Target Transforms (if any): None"
      ]
     },
     "execution_count": 13,
     "metadata": {
      "tags": []
     },
     "output_type": "execute_result"
    }
   ],
   "source": [
    "from torchvision import transforms\n",
    "from torchvision.datasets import MNIST\n",
    "_tasks = transforms.Compose([\n",
    "    transforms.ToTensor(),\n",
    "    transforms.Normalize((0.5, 0.5, 0.5), (0.5, 0.5, 0.5))\n",
    "])\n",
    "### Load and transfrom MNIST dataset\n",
    "mnist = MNIST(\"anand\", download=True, train=True, transform=_tasks)\n",
    "mnist"
   ]
  },
  {
   "cell_type": "code",
   "execution_count": 0,
   "metadata": {
    "id": "_20TIgmexB8k",
    "colab_type": "code",
    "colab": {}
   },
   "outputs": [],
   "source": [
    ""
   ]
  },
  {
   "cell_type": "code",
   "execution_count": 0,
   "metadata": {
    "id": "F4TqTLAt0zrc",
    "colab_type": "code",
    "colab": {}
   },
   "outputs": [],
   "source": [
    "from torch.utils.data import DataLoader\n",
    "from torch.utils.data.sampler import SubsetRandomSampler"
   ]
  },
  {
   "cell_type": "code",
   "execution_count": 0,
   "metadata": {
    "id": "DJwlvPEP1kql",
    "colab_type": "code",
    "colab": {}
   },
   "outputs": [],
   "source": [
    "### Paartition of data into training and validation sets\n",
    "split = int(0.8*len(mnist))\n",
    "index_list = list(range(len(mnist)))\n",
    "train_idx, validate_idx = index_list[:split], index_list[split:]"
   ]
  },
  {
   "cell_type": "code",
   "execution_count": 0,
   "metadata": {
    "id": "HuJyvAIj2i6V",
    "colab_type": "code",
    "colab": {}
   },
   "outputs": [],
   "source": [
    "### Create random sampler using SubsetRandomSampler\n",
    "tr_sampler = SubsetRandomSampler(train_idx)\n",
    "validate_sampler = SubsetRandomSampler(validate_idx)"
   ]
  },
  {
   "cell_type": "code",
   "execution_count": 0,
   "metadata": {
    "id": "piJRbfIK3ttq",
    "colab_type": "code",
    "colab": {}
   },
   "outputs": [],
   "source": [
    "### Create iterator objects to train and validate\n",
    "train_loader = DataLoader(mnist, batch_size=256, sampler=tr_sampler)\n",
    "validate_loader = DataLoader(mnist, batch_size=256, sampler=validate_sampler)"
   ]
  },
  {
   "cell_type": "code",
   "execution_count": 0,
   "metadata": {
    "id": "ybvSm7416UTd",
    "colab_type": "code",
    "colab": {}
   },
   "outputs": [],
   "source": [
    "### Use nn module to design neural network\n",
    "from torch import nn\n",
    "import torch.nn.functional as F\n",
    "class Model(nn.Module):\n",
    "  def __init__(self):\n",
    "    super(Model, self).__init__()\n",
    "    self.hidden = nn.Linear(784, 128)\n",
    "    self.output = nn.Linear(128, 10)\n",
    "  def forward(self, x):\n",
    "      x = self.hidden(x)\n",
    "      x = F.sigmoid(x)\n",
    "      x = self.output(x)\n",
    "      return(x)\n"
   ]
  },
  {
   "cell_type": "code",
   "execution_count": 19,
   "metadata": {
    "id": "Mp5e-7jO_G5X",
    "colab_type": "code",
    "outputId": "9d0e1b63-62c6-4118-c5c6-105c8e50e893",
    "executionInfo": {
     "status": "ok",
     "timestamp": 1.549958523211E12,
     "user_tz": -330.0,
     "elapsed": 44991.0,
     "user": {
      "displayName": "Anand Srivastava",
      "photoUrl": "https://lh5.googleusercontent.com/-sRoINlE7S7A/AAAAAAAAAAI/AAAAAAAAE7U/zv_YniHhgfk/s64/photo.jpg",
      "userId": "08176550738316076740"
     }
    },
    "colab": {
     "base_uri": "https://localhost:8080/",
     "height": 85.0
    }
   },
   "outputs": [
    {
     "name": "stdout",
     "output_type": "stream",
     "text": [
      "Model(\n",
      "  (hidden): Linear(in_features=784, out_features=128, bias=True)\n",
      "  (output): Linear(in_features=128, out_features=10, bias=True)\n",
      ")\n"
     ]
    }
   ],
   "source": [
    "model = Model()\n",
    "print(model)"
   ]
  },
  {
   "cell_type": "code",
   "execution_count": 0,
   "metadata": {
    "id": "szfs8cqQFrNH",
    "colab_type": "code",
    "colab": {}
   },
   "outputs": [],
   "source": [
    "### Define loss function using nn and optim\n",
    "from torch import optim\n",
    "loss_function = nn.CrossEntropyLoss()\n",
    "optimizer = optim.SGD(model.parameters(), lr = 0.01, weight_decay=1e-6, momentum=0.9, nesterov=True)"
   ]
  },
  {
   "cell_type": "code",
   "execution_count": 21,
   "metadata": {
    "id": "qc-tIRgrJ7NH",
    "colab_type": "code",
    "outputId": "75ba3883-b3f8-4a59-83d5-fe1bb252ffd5",
    "executionInfo": {
     "status": "ok",
     "timestamp": 1.549958598546E12,
     "user_tz": -330.0,
     "elapsed": 120313.0,
     "user": {
      "displayName": "Anand Srivastava",
      "photoUrl": "https://lh5.googleusercontent.com/-sRoINlE7S7A/AAAAAAAAAAI/AAAAAAAAE7U/zv_YniHhgfk/s64/photo.jpg",
      "userId": "08176550738316076740"
     }
    },
    "colab": {
     "base_uri": "https://localhost:8080/",
     "height": 221.0
    }
   },
   "outputs": [
    {
     "name": "stderr",
     "output_type": "stream",
     "text": [
      "/usr/local/lib/python3.6/dist-packages/torch/nn/functional.py:1332: UserWarning: nn.functional.sigmoid is deprecated. Use torch.sigmoid instead.\n",
      "  warnings.warn(\"nn.functional.sigmoid is deprecated. Use torch.sigmoid instead.\")\n"
     ]
    },
    {
     "name": "stdout",
     "output_type": "stream",
     "text": [
      "Epoch: 1 Training Loss:  1.4197915561021643 Valid Loss:  0.7011252286586356\n",
      "Epoch: 2 Training Loss:  0.5740270075645852 Valid Loss:  0.4462369103380974\n",
      "Epoch: 3 Training Loss:  0.43209435568845017 Valid Loss:  0.37327348171396457\n",
      "Epoch: 4 Training Loss:  0.37680654584410345 Valid Loss:  0.3394255562031523\n",
      "Epoch: 5 Training Loss:  0.34642054037527836 Valid Loss:  0.3151104932135724\n",
      "Epoch: 6 Training Loss:  0.32557326777184264 Valid Loss:  0.3000430702529055\n",
      "Epoch: 7 Training Loss:  0.3098732462113208 Valid Loss:  0.28814307520998284\n",
      "Epoch: 8 Training Loss:  0.2971622065660801 Valid Loss:  0.27649887793875755\n",
      "Epoch: 9 Training Loss:  0.2851173348249273 Valid Loss:  0.2670294461732215\n",
      "Epoch: 10 Training Loss:  0.27546708610780696 Valid Loss:  0.2586709264111012\n"
     ]
    }
   ],
   "source": [
    "### Train the model\n",
    "for epoch in range(1,11):\n",
    "  train_loss, valid_loss = [],[]\n",
    "  model.train()\n",
    "  \n",
    "  for data, target in train_loader:\n",
    "#     print(data)\n",
    "#     print(np.shape(data))\n",
    "    data = data.view(data.size(0), -1)\n",
    "    \n",
    "    optimizer.zero_grad()\n",
    "    \n",
    "    ### 1. Forward propagation\n",
    "    output = model(data)\n",
    "#     print(output)\n",
    "    ### 1. Loss calculation\n",
    "    loss = loss_function(output, target)\n",
    "#     print(loss)\n",
    "    ### 3. Backward propagation\n",
    "    loss.backward()\n",
    "    \n",
    "    ### 4. Weight optimization\n",
    "    optimizer.step()\n",
    "    \n",
    "    train_loss.append(loss.item())\n",
    "    \n",
    "  ### Evaluate model\n",
    "  for data, target in validate_loader:\n",
    "    data = data.view(data.size(0), -1)\n",
    "    output = model(data)\n",
    "    loss = loss_function(output, target)\n",
    "    valid_loss.append(loss.item())\n",
    "    \n",
    "  print (\"Epoch:\", epoch, \"Training Loss: \", np.mean(train_loss), \"Valid Loss: \", np.mean(valid_loss))    "
   ]
  },
  {
   "cell_type": "code",
   "execution_count": 26,
   "metadata": {
    "id": "y6oLoahD-Quu",
    "colab_type": "code",
    "colab": {
     "base_uri": "https://localhost:8080/",
     "height": 187.0
    },
    "outputId": "09e58090-8f1f-4473-b95a-6bc91136d5bb",
    "executionInfo": {
     "status": "ok",
     "timestamp": 1.549962758686E12,
     "user_tz": -330.0,
     "elapsed": 1559.0,
     "user": {
      "displayName": "Anand Srivastava",
      "photoUrl": "https://lh5.googleusercontent.com/-sRoINlE7S7A/AAAAAAAAAAI/AAAAAAAAE7U/zv_YniHhgfk/s64/photo.jpg",
      "userId": "08176550738316076740"
     }
    }
   },
   "outputs": [
    {
     "name": "stderr",
     "output_type": "stream",
     "text": [
      "/usr/local/lib/python3.6/dist-packages/torch/nn/functional.py:1332: UserWarning: nn.functional.sigmoid is deprecated. Use torch.sigmoid instead.\n",
      "  warnings.warn(\"nn.functional.sigmoid is deprecated. Use torch.sigmoid instead.\")\n"
     ]
    },
    {
     "data": {
      "text/plain": [
       "tensor([[-0.6360, -1.9837, -0.7877,  ..., -0.9286,  0.3953, -0.1565],\n",
       "        [-0.7203, -4.2173, -1.7800,  ...,  9.3168, -1.3906,  3.9490],\n",
       "        [ 1.9436,  0.3520,  6.8772,  ..., -7.0824,  0.7986, -5.1118],\n",
       "        ...,\n",
       "        [-6.3631,  7.2642,  2.2599,  ...,  0.8058,  0.8385, -1.6629],\n",
       "        [ 2.3180, -5.4311,  6.8661,  ..., -5.1892,  0.8406, -2.3909],\n",
       "        [-0.0734, -5.3239, -0.5281,  ..., -2.7174,  6.6580,  1.7022]],\n",
       "       grad_fn=<AddmmBackward>)"
      ]
     },
     "execution_count": 26,
     "metadata": {
      "tags": []
     },
     "output_type": "execute_result"
    }
   ],
   "source": [
    "dataiter = iter(validate_loader)\n",
    "data, labels = dataiter.next()\n",
    "data = data.view(data.size(0), -1)\n",
    "\n",
    "output = model(data)\n",
    "output"
   ]
  },
  {
   "cell_type": "code",
   "execution_count": 28,
   "metadata": {
    "id": "i9sZLo1R-zjw",
    "colab_type": "code",
    "colab": {
     "base_uri": "https://localhost:8080/",
     "height": 221.0
    },
    "outputId": "b9188def-0673-4e90-99a4-e64359926067",
    "executionInfo": {
     "status": "ok",
     "timestamp": 1.549962982811E12,
     "user_tz": -330.0,
     "elapsed": 1030.0,
     "user": {
      "displayName": "Anand Srivastava",
      "photoUrl": "https://lh5.googleusercontent.com/-sRoINlE7S7A/AAAAAAAAAAI/AAAAAAAAE7U/zv_YniHhgfk/s64/photo.jpg",
      "userId": "08176550738316076740"
     }
    }
   },
   "outputs": [
    {
     "data": {
      "text/plain": [
       "array([3, 7, 2, 5, 3, 3, 3, 4, 1, 6, 4, 1, 4, 2, 9, 5, 0, 1, 8, 7, 6, 7,\n",
       "       0, 9, 1, 6, 3, 5, 6, 8, 2, 5, 6, 4, 5, 3, 2, 8, 4, 1, 7, 3, 7, 1,\n",
       "       7, 1, 8, 6, 0, 1, 1, 4, 3, 6, 0, 3, 0, 3, 6, 9, 2, 9, 3, 5, 2, 6,\n",
       "       2, 4, 9, 7, 2, 4, 7, 4, 3, 9, 3, 9, 0, 0, 1, 7, 5, 6, 0, 6, 8, 8,\n",
       "       1, 7, 6, 7, 5, 5, 8, 7, 8, 2, 7, 5, 4, 6, 6, 2, 8, 7, 8, 7, 1, 5,\n",
       "       9, 4, 7, 1, 6, 7, 7, 0, 9, 4, 0, 0, 9, 4, 1, 8, 9, 0, 5, 1, 4, 2,\n",
       "       7, 5, 6, 3, 1, 9, 7, 3, 2, 3, 7, 3, 1, 9, 7, 0, 1, 5, 8, 1, 9, 0,\n",
       "       9, 3, 2, 2, 8, 3, 8, 0, 7, 9, 4, 2, 6, 7, 5, 2, 7, 4, 1, 7, 7, 4,\n",
       "       5, 3, 5, 1, 1, 6, 3, 0, 8, 3, 5, 6, 4, 1, 7, 8, 7, 9, 4, 3, 2, 6,\n",
       "       7, 2, 5, 9, 0, 7, 7, 3, 5, 9, 7, 7, 8, 4, 6, 6, 6, 9, 2, 7, 8, 8,\n",
       "       1, 4, 3, 2, 8, 8, 3, 3, 2, 7, 3, 9, 6, 8, 5, 1, 2, 1, 5, 5, 0, 7,\n",
       "       5, 3, 3, 1, 1, 7, 7, 2, 0, 3, 1, 1, 2, 8])"
      ]
     },
     "execution_count": 28,
     "metadata": {
      "tags": []
     },
     "output_type": "execute_result"
    }
   ],
   "source": [
    "_,pred_tensor = torch.max(output, 1)\n",
    "preds = np.squeeze(pred_tensor.numpy())\n"
   ]
  },
  {
   "cell_type": "code",
   "execution_count": 34,
   "metadata": {
    "id": "KcBcFRoOALaY",
    "colab_type": "code",
    "colab": {
     "base_uri": "https://localhost:8080/",
     "height": 238.0
    },
    "outputId": "fc20e306-b64e-4987-9765-94eb96d96fb0",
    "executionInfo": {
     "status": "ok",
     "timestamp": 1.549963352133E12,
     "user_tz": -330.0,
     "elapsed": 964.0,
     "user": {
      "displayName": "Anand Srivastava",
      "photoUrl": "https://lh5.googleusercontent.com/-sRoINlE7S7A/AAAAAAAAAAI/AAAAAAAAE7U/zv_YniHhgfk/s64/photo.jpg",
      "userId": "08176550738316076740"
     }
    }
   },
   "outputs": [
    {
     "name": "stdout",
     "output_type": "stream",
     "text": [
      "Actual:  tensor([3, 7, 2, 3, 3, 3, 3, 4, 1, 3])\n",
      "Prediction:     [3 7 2 5 3 3 3 4 1 6]\n",
      "[ 0  0  0 -2  0  0  0  0  0 -3  0  0  0  0  0  0  0  0  0  0  0  0  0  0\n",
      "  0  0  2  0  0  0  0  0  0  0  0  0  0  0  0  0  0  0  0  0  0  0  0  0\n",
      "  0  3  0  0  0  0  0  0  0  0  0  0  0  0  0  0  0  0  0  0  0  0  0  0\n",
      "  0  0  0  0  0  0  0  0  0  0  0  0  0  0  0  0  0  0  0  0  0  0  0  0\n",
      "  0  0  0  0  0  0  0  0  0  0  0  2  0  0  0  0  0  0  0  0  0  0  0  5\n",
      "  0  0  0  0  0  0  0  0  0  7  0  0  0  0  0  0  0  0  0  0  0  0  2 -1\n",
      "  0  0  0  0  0  0  0  0  0  0  0  0  0  0  0  0  0  0  0 -5  0  0  0  0\n",
      "  0  0  0  0  0  0  0  0  0  0  0  0  0  0  0  0  0  0  0  0  0  0  0  0\n",
      "  0  0  0  4  0  0  0  0  0  0  0  0  0  0  4  0  0  0  0  5  0  0  0  0\n",
      "  0  0  0  0  0  0  0  0  0  0  0  0  0  0  0  0  0  0  0  0  0  0 -5  0\n",
      "  0  0  0  2  6  0  0  0  0  0  0 -1  3  0  0  0]\n"
     ]
    }
   ],
   "source": [
    "print(\"Actual: \", labels[:10])\n",
    "print(\"Prediction:    \", preds[:10])\n",
    "labels = np.squeeze(labels.numpy())\n",
    "print(labels - preds)"
   ]
  }
 ],
 "metadata": {
  "colab": {
   "name": "Untitled0.ipynb",
   "version": "0.3.2",
   "provenance": [],
   "collapsed_sections": []
  },
  "kernelspec": {
   "name": "python3",
   "display_name": "Python 3"
  }
 },
 "nbformat": 4,
 "nbformat_minor": 0
}
