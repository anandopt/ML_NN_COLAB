{
  "nbformat": 4,
  "nbformat_minor": 0,
  "metadata": {
    "colab": {
      "name": "Mahalonobis_distance_for_multivariate_outlier.ipynb",
      "version": "0.3.2",
      "provenance": [],
      "include_colab_link": true
    },
    "kernelspec": {
      "name": "python3",
      "display_name": "Python 3"
    }
  },
  "cells": [
    {
      "cell_type": "markdown",
      "metadata": {
        "id": "view-in-github",
        "colab_type": "text"
      },
      "source": [
        "<a href=\"https://colab.research.google.com/github/anandopt/ML_NN_COLAB/blob/master/Mahalonobis_distance_for_multivariate_outlier.ipynb\" target=\"_parent\"><img src=\"https://colab.research.google.com/assets/colab-badge.svg\" alt=\"Open In Colab\"/></a>"
      ]
    },
    {
      "metadata": {
        "id": "mAMQBAsScG67",
        "colab_type": "code",
        "colab": {
          "base_uri": "https://localhost:8080/",
          "height": 2290
        },
        "outputId": "a7b8d37f-b576-415f-d645-ba14b71fb569"
      },
      "cell_type": "code",
      "source": [
        "import numpy as np\n",
        "import pandas as pd\n",
        "import matplotlib.pyplot as plt\n",
        "from sklearn.covariance import EmpiricalCovariance, MinCovDet\n",
        "\n",
        "n_samples = 125\n",
        "n_outliers = 25\n",
        "n_features = 2\n",
        "\n",
        "#####Get data\n",
        "get_cov=np.eye(n_features)\n",
        "get_cov[0,0] = 2.\n",
        "X=np.dot(np.random.randn(n_samples, n_features), get_cov)\n",
        "X"
      ],
      "execution_count": 2,
      "outputs": [
        {
          "output_type": "execute_result",
          "data": {
            "text/plain": [
              "array([[-0.9731752 , -0.61060803],\n",
              "       [ 0.7236624 , -0.97742294],\n",
              "       [ 2.40523871, -1.45531194],\n",
              "       [-4.02292184, -0.19600265],\n",
              "       [ 0.51869405,  0.17531356],\n",
              "       [ 0.90617423,  0.33976389],\n",
              "       [ 3.23480664,  0.05992092],\n",
              "       [ 2.43192127,  1.02215107],\n",
              "       [-0.78568115,  2.030071  ],\n",
              "       [-2.56931324, -0.16957234],\n",
              "       [ 0.20689817, -0.32109015],\n",
              "       [ 3.99199244, -0.662596  ],\n",
              "       [ 0.53089036,  1.05251913],\n",
              "       [-1.54541587, -0.32988146],\n",
              "       [ 2.38940377,  0.67448469],\n",
              "       [ 4.95505379,  1.37151919],\n",
              "       [-2.81221833, -0.72777379],\n",
              "       [-0.81322063,  0.8750118 ],\n",
              "       [-0.20192845, -0.62943486],\n",
              "       [-0.73771865, -2.11670709],\n",
              "       [-4.01716882,  0.92446502],\n",
              "       [ 2.75393251, -0.73275055],\n",
              "       [-3.46926193,  1.52745218],\n",
              "       [-1.0206397 , -0.86857884],\n",
              "       [ 0.37885661,  1.65484155],\n",
              "       [-0.84705791, -0.28174893],\n",
              "       [ 0.19102486,  0.0302302 ],\n",
              "       [ 2.32276877,  1.12790803],\n",
              "       [ 1.60801019,  0.58661409],\n",
              "       [ 0.16732089,  1.97228412],\n",
              "       [ 0.96242551,  0.59560549],\n",
              "       [-0.67189084,  0.22703553],\n",
              "       [ 1.7818812 ,  1.50275896],\n",
              "       [-0.43867548,  1.82032147],\n",
              "       [ 0.71073555,  0.59652761],\n",
              "       [ 2.84484187,  1.50563838],\n",
              "       [-2.24608063, -1.22979746],\n",
              "       [ 3.67981508,  0.65763414],\n",
              "       [-0.38887136, -0.90392612],\n",
              "       [ 0.41583525,  0.5442748 ],\n",
              "       [ 2.9556979 ,  0.44947239],\n",
              "       [ 1.99608446,  0.65794285],\n",
              "       [-1.72893223, -0.00636766],\n",
              "       [ 1.78528943,  0.52200041],\n",
              "       [ 0.91467185, -0.52987003],\n",
              "       [ 0.39535933,  0.18479337],\n",
              "       [ 2.16145687, -1.04246978],\n",
              "       [-0.13476765, -0.0565813 ],\n",
              "       [-0.57579943,  0.14601756],\n",
              "       [-3.60184911, -0.6394978 ],\n",
              "       [-0.47637152,  1.11662029],\n",
              "       [ 0.2109874 ,  1.02618982],\n",
              "       [-0.42716779, -1.15170774],\n",
              "       [-1.40052977, -1.20361411],\n",
              "       [-3.14120584,  0.28500923],\n",
              "       [ 2.88194971, -0.16508804],\n",
              "       [ 1.18577256, -1.28598386],\n",
              "       [ 4.71826744, -0.31195889],\n",
              "       [ 0.45163284,  0.28492542],\n",
              "       [ 0.31826471,  0.48815048],\n",
              "       [-2.56373885, -0.30458524],\n",
              "       [ 3.21984235, -0.64731273],\n",
              "       [-1.32450445,  0.75792407],\n",
              "       [ 3.24434415, -0.60742977],\n",
              "       [ 0.60262979,  0.12642474],\n",
              "       [-4.43722634, -0.06917246],\n",
              "       [-5.73648869,  0.32851879],\n",
              "       [ 0.46614173,  0.90337255],\n",
              "       [-1.52294751, -0.61418059],\n",
              "       [ 1.77827132, -0.32897007],\n",
              "       [-0.73882669, -0.46702697],\n",
              "       [-0.53620984,  0.87279468],\n",
              "       [ 0.91337071,  0.54612482],\n",
              "       [ 2.02859949,  0.39378718],\n",
              "       [-2.39413576,  1.14859421],\n",
              "       [ 1.92796862,  1.71680282],\n",
              "       [ 1.71193872, -0.76663239],\n",
              "       [-1.61216049,  0.40330763],\n",
              "       [-3.26292813,  1.43401356],\n",
              "       [ 2.8604033 , -0.55034771],\n",
              "       [ 1.32393168,  0.76090151],\n",
              "       [ 0.1805024 , -0.54520138],\n",
              "       [ 0.24298855,  0.15165082],\n",
              "       [ 1.30805225,  1.15199807],\n",
              "       [-1.99332399, -1.94350646],\n",
              "       [ 2.04558874,  0.87477948],\n",
              "       [ 0.74687121, -0.50102655],\n",
              "       [-1.15198805,  0.66973556],\n",
              "       [-0.38207607,  0.05881298],\n",
              "       [-3.29936696, -0.36294442],\n",
              "       [-1.98235962,  0.23110481],\n",
              "       [ 3.25649174, -0.26382359],\n",
              "       [ 2.84605728, -0.26903374],\n",
              "       [ 1.64351438,  0.27679225],\n",
              "       [ 3.10287013,  0.33003747],\n",
              "       [ 3.2154034 , -0.02764357],\n",
              "       [-0.0494788 , -0.20559362],\n",
              "       [-1.77888999, -0.13198561],\n",
              "       [-3.74639728,  0.97883506],\n",
              "       [-3.14966729,  2.30821197],\n",
              "       [-3.08647067, -0.60227278],\n",
              "       [ 3.44670621,  1.63102393],\n",
              "       [ 1.13712872,  1.04258784],\n",
              "       [ 0.72778686,  0.09765917],\n",
              "       [ 0.14198533,  0.88167301],\n",
              "       [ 0.8040584 , -1.08344433],\n",
              "       [ 0.15639057, -0.49191533],\n",
              "       [ 0.14913234,  0.83407704],\n",
              "       [ 1.38404957, -0.4032171 ],\n",
              "       [-1.00151895,  0.09038325],\n",
              "       [ 1.03895767,  0.65378321],\n",
              "       [ 0.76447896,  1.01110417],\n",
              "       [ 2.23049584, -0.38257041],\n",
              "       [ 0.73755403,  1.96314424],\n",
              "       [ 0.15641646, -0.23818268],\n",
              "       [ 0.1355427 ,  0.03558045],\n",
              "       [ 0.07561566, -0.17423845],\n",
              "       [-1.02171582,  0.25425879],\n",
              "       [-3.15921003, -0.63775102],\n",
              "       [ 0.51216233,  1.23850723],\n",
              "       [-3.86072978,  0.49310039],\n",
              "       [ 3.42872226,  0.53430608],\n",
              "       [-2.15567015,  0.50826907],\n",
              "       [ 1.44538707,  0.86482897],\n",
              "       [ 1.23839467, -1.428595  ]])"
            ]
          },
          "metadata": {
            "tags": []
          },
          "execution_count": 2
        }
      ]
    },
    {
      "metadata": {
        "id": "D6ZIN8uIoHx4",
        "colab_type": "code",
        "colab": {
          "base_uri": "https://localhost:8080/",
          "height": 2290
        },
        "outputId": "dd86d469-b2bb-4c0b-d03d-eb2d66d86c82"
      },
      "cell_type": "code",
      "source": [
        "outlier_cov = np.eye(n_features)\n",
        "outlier_cov[np.arange(1, n_features), np.arange(1, n_features)] = 7.\n",
        "X[-n_outliers:] = np.dot(np.random.randn(n_outliers, n_features), outlier_cov)\n",
        "X"
      ],
      "execution_count": 3,
      "outputs": [
        {
          "output_type": "execute_result",
          "data": {
            "text/plain": [
              "array([[-9.73175199e-01, -6.10608029e-01],\n",
              "       [ 7.23662399e-01, -9.77422944e-01],\n",
              "       [ 2.40523871e+00, -1.45531194e+00],\n",
              "       [-4.02292184e+00, -1.96002651e-01],\n",
              "       [ 5.18694050e-01,  1.75313556e-01],\n",
              "       [ 9.06174229e-01,  3.39763891e-01],\n",
              "       [ 3.23480664e+00,  5.99209217e-02],\n",
              "       [ 2.43192127e+00,  1.02215107e+00],\n",
              "       [-7.85681145e-01,  2.03007100e+00],\n",
              "       [-2.56931324e+00, -1.69572344e-01],\n",
              "       [ 2.06898174e-01, -3.21090147e-01],\n",
              "       [ 3.99199244e+00, -6.62595996e-01],\n",
              "       [ 5.30890364e-01,  1.05251913e+00],\n",
              "       [-1.54541587e+00, -3.29881460e-01],\n",
              "       [ 2.38940377e+00,  6.74484694e-01],\n",
              "       [ 4.95505379e+00,  1.37151919e+00],\n",
              "       [-2.81221833e+00, -7.27773788e-01],\n",
              "       [-8.13220630e-01,  8.75011803e-01],\n",
              "       [-2.01928450e-01, -6.29434864e-01],\n",
              "       [-7.37718649e-01, -2.11670709e+00],\n",
              "       [-4.01716882e+00,  9.24465024e-01],\n",
              "       [ 2.75393251e+00, -7.32750552e-01],\n",
              "       [-3.46926193e+00,  1.52745218e+00],\n",
              "       [-1.02063970e+00, -8.68578836e-01],\n",
              "       [ 3.78856614e-01,  1.65484155e+00],\n",
              "       [-8.47057911e-01, -2.81748934e-01],\n",
              "       [ 1.91024858e-01,  3.02302025e-02],\n",
              "       [ 2.32276877e+00,  1.12790803e+00],\n",
              "       [ 1.60801019e+00,  5.86614093e-01],\n",
              "       [ 1.67320893e-01,  1.97228412e+00],\n",
              "       [ 9.62425508e-01,  5.95605488e-01],\n",
              "       [-6.71890840e-01,  2.27035531e-01],\n",
              "       [ 1.78188120e+00,  1.50275896e+00],\n",
              "       [-4.38675476e-01,  1.82032147e+00],\n",
              "       [ 7.10735551e-01,  5.96527607e-01],\n",
              "       [ 2.84484187e+00,  1.50563838e+00],\n",
              "       [-2.24608063e+00, -1.22979746e+00],\n",
              "       [ 3.67981508e+00,  6.57634140e-01],\n",
              "       [-3.88871360e-01, -9.03926122e-01],\n",
              "       [ 4.15835245e-01,  5.44274804e-01],\n",
              "       [ 2.95569790e+00,  4.49472386e-01],\n",
              "       [ 1.99608446e+00,  6.57942850e-01],\n",
              "       [-1.72893223e+00, -6.36765553e-03],\n",
              "       [ 1.78528943e+00,  5.22000414e-01],\n",
              "       [ 9.14671848e-01, -5.29870027e-01],\n",
              "       [ 3.95359327e-01,  1.84793369e-01],\n",
              "       [ 2.16145687e+00, -1.04246978e+00],\n",
              "       [-1.34767652e-01, -5.65813008e-02],\n",
              "       [-5.75799425e-01,  1.46017562e-01],\n",
              "       [-3.60184911e+00, -6.39497795e-01],\n",
              "       [-4.76371518e-01,  1.11662029e+00],\n",
              "       [ 2.10987397e-01,  1.02618982e+00],\n",
              "       [-4.27167793e-01, -1.15170774e+00],\n",
              "       [-1.40052977e+00, -1.20361411e+00],\n",
              "       [-3.14120584e+00,  2.85009234e-01],\n",
              "       [ 2.88194971e+00, -1.65088043e-01],\n",
              "       [ 1.18577256e+00, -1.28598386e+00],\n",
              "       [ 4.71826744e+00, -3.11958888e-01],\n",
              "       [ 4.51632843e-01,  2.84925421e-01],\n",
              "       [ 3.18264706e-01,  4.88150483e-01],\n",
              "       [-2.56373885e+00, -3.04585238e-01],\n",
              "       [ 3.21984235e+00, -6.47312735e-01],\n",
              "       [-1.32450445e+00,  7.57924066e-01],\n",
              "       [ 3.24434415e+00, -6.07429769e-01],\n",
              "       [ 6.02629787e-01,  1.26424745e-01],\n",
              "       [-4.43722634e+00, -6.91724607e-02],\n",
              "       [-5.73648869e+00,  3.28518790e-01],\n",
              "       [ 4.66141729e-01,  9.03372546e-01],\n",
              "       [-1.52294751e+00, -6.14180591e-01],\n",
              "       [ 1.77827132e+00, -3.28970073e-01],\n",
              "       [-7.38826690e-01, -4.67026968e-01],\n",
              "       [-5.36209837e-01,  8.72794684e-01],\n",
              "       [ 9.13370710e-01,  5.46124816e-01],\n",
              "       [ 2.02859949e+00,  3.93787181e-01],\n",
              "       [-2.39413576e+00,  1.14859421e+00],\n",
              "       [ 1.92796862e+00,  1.71680282e+00],\n",
              "       [ 1.71193872e+00, -7.66632392e-01],\n",
              "       [-1.61216049e+00,  4.03307626e-01],\n",
              "       [-3.26292813e+00,  1.43401356e+00],\n",
              "       [ 2.86040330e+00, -5.50347709e-01],\n",
              "       [ 1.32393168e+00,  7.60901506e-01],\n",
              "       [ 1.80502396e-01, -5.45201378e-01],\n",
              "       [ 2.42988547e-01,  1.51650823e-01],\n",
              "       [ 1.30805225e+00,  1.15199807e+00],\n",
              "       [-1.99332399e+00, -1.94350646e+00],\n",
              "       [ 2.04558874e+00,  8.74779476e-01],\n",
              "       [ 7.46871211e-01, -5.01026551e-01],\n",
              "       [-1.15198805e+00,  6.69735557e-01],\n",
              "       [-3.82076070e-01,  5.88129787e-02],\n",
              "       [-3.29936696e+00, -3.62944419e-01],\n",
              "       [-1.98235962e+00,  2.31104812e-01],\n",
              "       [ 3.25649174e+00, -2.63823586e-01],\n",
              "       [ 2.84605728e+00, -2.69033736e-01],\n",
              "       [ 1.64351438e+00,  2.76792249e-01],\n",
              "       [ 3.10287013e+00,  3.30037468e-01],\n",
              "       [ 3.21540340e+00, -2.76435671e-02],\n",
              "       [-4.94788044e-02, -2.05593617e-01],\n",
              "       [-1.77888999e+00, -1.31985612e-01],\n",
              "       [-3.74639728e+00,  9.78835058e-01],\n",
              "       [-3.14966729e+00,  2.30821197e+00],\n",
              "       [ 1.52297845e+00,  3.64861612e-01],\n",
              "       [ 5.65698174e-01,  8.18194863e+00],\n",
              "       [ 1.74198378e+00, -6.44856280e-01],\n",
              "       [ 9.15032203e-01, -2.78342930e+00],\n",
              "       [-3.03728133e+00, -2.87927140e+00],\n",
              "       [-2.00807548e-01,  4.25497964e-01],\n",
              "       [-1.68192263e-01,  4.36931974e+00],\n",
              "       [-1.60695029e-03, -8.19489158e+00],\n",
              "       [ 2.05726895e+00, -1.20359287e-01],\n",
              "       [-3.49793034e-01,  4.80825350e+00],\n",
              "       [ 6.65357863e-01,  6.27361621e+00],\n",
              "       [-3.42417776e-01,  6.22211235e+00],\n",
              "       [ 1.76322765e+00, -4.23381696e+00],\n",
              "       [ 2.68990139e-01,  3.54517503e-01],\n",
              "       [-1.38957594e+00,  3.27259774e+00],\n",
              "       [-3.73024237e-01,  8.09233862e+00],\n",
              "       [ 4.43039966e-01, -3.90212763e+00],\n",
              "       [ 2.46224279e-01,  6.11752858e-02],\n",
              "       [ 1.17267508e-01, -2.34066693e+00],\n",
              "       [-1.33497694e+00,  1.12655460e+01],\n",
              "       [ 6.54746639e-01,  8.65767180e+00],\n",
              "       [ 6.94945736e-01, -1.89142396e+00],\n",
              "       [ 4.83451484e-01,  2.51743941e+00],\n",
              "       [ 8.23086711e-01, -1.59626200e+01],\n",
              "       [ 1.69970684e+00, -8.98094269e+00]])"
            ]
          },
          "metadata": {
            "tags": []
          },
          "execution_count": 3
        }
      ]
    },
    {
      "metadata": {
        "id": "wO2MuadQpXGN",
        "colab_type": "code",
        "colab": {
          "base_uri": "https://localhost:8080/",
          "height": 54
        },
        "outputId": "367e7d6c-ebad-4ae7-e648-2c66bf595fdd"
      },
      "cell_type": "code",
      "source": [
        "robust_cov = MinCovDet().fit(X)\n",
        "robust_cov"
      ],
      "execution_count": 4,
      "outputs": [
        {
          "output_type": "execute_result",
          "data": {
            "text/plain": [
              "MinCovDet(assume_centered=False, random_state=None, store_precision=True,\n",
              "     support_fraction=None)"
            ]
          },
          "metadata": {
            "tags": []
          },
          "execution_count": 4
        }
      ]
    },
    {
      "metadata": {
        "id": "sWkelH5Mpezs",
        "colab_type": "code",
        "colab": {
          "base_uri": "https://localhost:8080/",
          "height": 35
        },
        "outputId": "e2e6ddd1-ac53-4765-b3d2-c12725d8bb78"
      },
      "cell_type": "code",
      "source": [
        "emp_cov = EmpiricalCovariance().fit(X)\n",
        "emp_cov"
      ],
      "execution_count": 5,
      "outputs": [
        {
          "output_type": "execute_result",
          "data": {
            "text/plain": [
              "EmpiricalCovariance(assume_centered=False, store_precision=True)"
            ]
          },
          "metadata": {
            "tags": []
          },
          "execution_count": 5
        }
      ]
    },
    {
      "metadata": {
        "id": "dd_1b80Ip2JV",
        "colab_type": "code",
        "colab": {
          "base_uri": "https://localhost:8080/",
          "height": 145
        },
        "outputId": "5b389c9e-c748-49f8-b17f-31abbcef014a"
      },
      "cell_type": "code",
      "source": [
        "  X[:,0][-n_outliers:]"
      ],
      "execution_count": 6,
      "outputs": [
        {
          "output_type": "execute_result",
          "data": {
            "text/plain": [
              "array([ 1.52297845e+00,  5.65698174e-01,  1.74198378e+00,  9.15032203e-01,\n",
              "       -3.03728133e+00, -2.00807548e-01, -1.68192263e-01, -1.60695029e-03,\n",
              "        2.05726895e+00, -3.49793034e-01,  6.65357863e-01, -3.42417776e-01,\n",
              "        1.76322765e+00,  2.68990139e-01, -1.38957594e+00, -3.73024237e-01,\n",
              "        4.43039966e-01,  2.46224279e-01,  1.17267508e-01, -1.33497694e+00,\n",
              "        6.54746639e-01,  6.94945736e-01,  4.83451484e-01,  8.23086711e-01,\n",
              "        1.69970684e+00])"
            ]
          },
          "metadata": {
            "tags": []
          },
          "execution_count": 6
        }
      ]
    },
    {
      "metadata": {
        "id": "7Vyei444puZs",
        "colab_type": "code",
        "colab": {
          "base_uri": "https://localhost:8080/",
          "height": 175
        },
        "outputId": "cefc632b-bcaa-4300-d7b5-39eb582caf45"
      },
      "cell_type": "code",
      "source": [
        "#####Visualization\n",
        "fig = plt.figure()\n",
        "plt.subplots_adjust(hspace=-0.1, wspace=0.4, top=0.95, bottom=0.05)\n",
        "\n",
        "#### Show dataset\n",
        "subfig1 = plt.subplot(3,1,1)\n",
        "inlier_plot=subfig1.scatter(X[:,0], X[:,1], color='black', label='inlier')\n",
        "outlier_plot=subfig1.scatter(X[:,0][-n_outliers:], X[:,1][-n_outliers:], color='red', label='outlier')\n",
        "# subfig1.get_xlim()[0]\n",
        "subfig1.set_xlim(subfig1.get_xlim()[0], 11.)\n",
        "subfig1.set_title(\"Mahalanobis distances of a contaminated data set:\")\n",
        "# plt.show()"
      ],
      "execution_count": 7,
      "outputs": [
        {
          "output_type": "execute_result",
          "data": {
            "text/plain": [
              "Text(0.5, 1.0, 'Mahalanobis distances of a contaminated data set:')"
            ]
          },
          "metadata": {
            "tags": []
          },
          "execution_count": 7
        },
        {
          "output_type": "display_data",
          "data": {
            "image/png": "[encoded data removed]",
            "text/plain": [
              "<Figure size 432x288 with 1 Axes>"
            ]
          },
          "metadata": {
            "tags": []
          }
        }
      ]
    },
    {
      "metadata": {
        "id": "wU9IQ05gNc45",
        "colab_type": "code",
        "colab": {
          "base_uri": "https://localhost:8080/",
          "height": 184
        },
        "outputId": "6999d932-76a2-41a2-f56e-f6fbad0bd616"
      },
      "cell_type": "code",
      "source": [
        "# Show contours of the distance functions\n",
        "xx, yy = np.meshgrid(np.linspace(plt.xlim()[0], plt.xlim()[1], 100),\n",
        "                     np.linspace(plt.ylim()[0], plt.ylim()[1], 100))\n",
        "zz = np.c_[xx.ravel(), yy.ravel()]\n",
        "\n",
        "mahal_emp_cov = emp_cov.mahalanobis(zz)\n",
        "mahal_emp_cov = mahal_emp_cov.reshape(xx.shape)\n",
        "emp_cov_contour = subfig1.contour(xx, yy, np.sqrt(mahal_emp_cov),\n",
        "                                  cmap=plt.cm.PuBu_r,\n",
        "                                  linestyles='dashed')\n",
        "\n",
        "mahal_robust_cov = robust_cov.mahalanobis(zz)\n",
        "mahal_robust_cov = mahal_robust_cov.reshape(xx.shape)\n",
        "robust_contour = subfig1.contour(xx, yy, np.sqrt(mahal_robust_cov),\n",
        "                                 cmap=plt.cm.YlOrBr_r, linestyles='dotted')\n",
        "\n",
        "subfig1.legend([emp_cov_contour.collections[1], robust_contour.collections[1],\n",
        "                inlier_plot, outlier_plot],\n",
        "               ['MLE dist', 'robust dist', 'inliers', 'outliers'],\n",
        "               loc=\"upper right\", borderaxespad=0)\n",
        "plt.xticks(())\n",
        "plt.yticks(())\n",
        "\n",
        "\n",
        "# Plot the scores for each point\n",
        "emp_mahal = emp_cov.mahalanobis(X - np.mean(X, 0)) ** (0.33)\n",
        "subfig2 = plt.subplot(2, 2, 3)\n",
        "subfig2.boxplot([emp_mahal[:-n_outliers], emp_mahal[-n_outliers:]], widths=.25)\n",
        "subfig2.plot(np.full(n_samples - n_outliers, 1.26),\n",
        "             emp_mahal[:-n_outliers], '+k', markeredgewidth=1)\n",
        "subfig2.plot(np.full(n_outliers, 2.26),\n",
        "             emp_mahal[-n_outliers:], '+k', markeredgewidth=1)\n",
        "subfig2.axes.set_xticklabels(('inliers', 'outliers'), size=15)\n",
        "subfig2.set_ylabel(r\"$\\sqrt[3]{\\rm{(Mahal. dist.)}}$\", size=16)\n",
        "subfig2.set_title(\"1. from non-robust estimates\\n(Maximum Likelihood)\")\n",
        "plt.yticks(())\n",
        "\n",
        "robust_mahal = robust_cov.mahalanobis(X - robust_cov.location_) ** (0.33)\n",
        "subfig3 = plt.subplot(2, 2, 4)\n",
        "subfig3.boxplot([robust_mahal[:-n_outliers], robust_mahal[-n_outliers:]],\n",
        "                widths=.25)\n",
        "subfig3.plot(np.full(n_samples - n_outliers, 1.26),\n",
        "             robust_mahal[:-n_outliers], '+k', markeredgewidth=1)\n",
        "subfig3.plot(np.full(n_outliers, 2.26),\n",
        "             robust_mahal[-n_outliers:], '+k', markeredgewidth=1)\n",
        "subfig3.axes.set_xticklabels(('inliers', 'outliers'), size=15)\n",
        "subfig3.set_ylabel(r\"$\\sqrt[3]{\\rm{(Mahal. dist.)}}$\", size=16)\n",
        "subfig3.set_title(\"2. from robust estimates\\n(Minimum Covariance Determinant)\")\n",
        "plt.yticks(())\n",
        "\n",
        "plt.show()"
      ],
      "execution_count": 9,
      "outputs": [
        {
          "output_type": "display_data",
          "data": {
            "image/png": "[encoded data removed]",
            "text/plain": [
              "<Figure size 432x288 with 2 Axes>"
            ]
          },
          "metadata": {
            "tags": []
          }
        }
      ]
    },
    {
      "metadata": {
        "id": "PvGUPYqPDhdu",
        "colab_type": "code",
        "colab": {}
      },
      "cell_type": "code",
      "source": [
        ""
      ],
      "execution_count": 0,
      "outputs": []
    }
  ]
}