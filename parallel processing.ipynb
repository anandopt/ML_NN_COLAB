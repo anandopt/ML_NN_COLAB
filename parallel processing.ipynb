{
  "nbformat": 4,
  "nbformat_minor": 0,
  "metadata": {
    "colab": {
      "name": "Untitled7.ipynb",
      "version": "0.3.2",
      "provenance": [],
      "include_colab_link": true
    },
    "kernelspec": {
      "name": "python3",
      "display_name": "Python 3"
    }
  },
  "cells": [
    {
      "cell_type": "markdown",
      "metadata": {
        "id": "view-in-github",
        "colab_type": "text"
      },
      "source": [
        "<a href=\"https://colab.research.google.com/github/anandopt/ML_NN_COLAB/blob/master/parallel%20processing.ipynb\" target=\"_parent\"><img src=\"https://colab.research.google.com/assets/colab-badge.svg\" alt=\"Open In Colab\"/></a>"
      ]
    },
    {
      "cell_type": "code",
      "metadata": {
        "id": "WzjxXRXvpmDz",
        "colab_type": "code",
        "colab": {}
      },
      "source": [
        "import collections\n",
        "import multiprocessing"
      ],
      "execution_count": 0,
      "outputs": []
    },
    {
      "cell_type": "code",
      "metadata": {
        "id": "qK4bzp_dpzSr",
        "colab_type": "code",
        "colab": {}
      },
      "source": [
        "# use collections namedtuple\n",
        "Scientist = collections.namedtuple('Scientist', \n",
        "                                  [\n",
        "                                      'name',\n",
        "                                      'born',\n",
        "                                  ])"
      ],
      "execution_count": 0,
      "outputs": []
    },
    {
      "cell_type": "code",
      "metadata": {
        "id": "kKZKl13PqS2X",
        "colab_type": "code",
        "colab": {}
      },
      "source": [
        "scientists = (\n",
        "    Scientist(name='Ada Lovelace', born=1815),\n",
        "    Scientist(name='Emmy Noether', born=1882),\n",
        "    Scientist(name='Marie Curie', born=1867),\n",
        "    Scientist(name='Tu Youyou', born=1930),\n",
        "    Scientist(name='Ada Yonath', born=1939),\n",
        "    Scientist(name='Vera Rubin', born=1928),\n",
        "    Scientist(name='Sally Ride', born=1951),\n",
        ")"
      ],
      "execution_count": 0,
      "outputs": []
    },
    {
      "cell_type": "code",
      "metadata": {
        "id": "VFE6DYIVq69a",
        "colab_type": "code",
        "colab": {}
      },
      "source": [
        "def data_process(item):\n",
        "  return{\n",
        "      'name':item.name,\n",
        "      'age':2019-item.born\n",
        "  }"
      ],
      "execution_count": 0,
      "outputs": []
    },
    {
      "cell_type": "code",
      "metadata": {
        "id": "YklWcEu8rsgc",
        "colab_type": "code",
        "colab": {}
      },
      "source": [
        "# use \"multiprocessing pool\" batching and distributing the work across multiple CPU cores, performing the work, and collecting the results\n",
        "# pool's map method is used\n",
        "\n",
        "pool = multiprocessing.Pool()\n",
        "result = pool.map(data_process, scientists)"
      ],
      "execution_count": 0,
      "outputs": []
    },
    {
      "cell_type": "code",
      "metadata": {
        "id": "sLnSJ423sRV3",
        "colab_type": "code",
        "colab": {
          "base_uri": "https://localhost:8080/",
          "height": 55
        },
        "outputId": "2cf32c28-b05c-4ac0-af0c-7d230b66225b"
      },
      "source": [
        "print(tuple(result))"
      ],
      "execution_count": 10,
      "outputs": [
        {
          "output_type": "stream",
          "text": [
            "({'name': 'Ada Lovelace', 'age': 204}, {'name': 'Emmy Noether', 'age': 137}, {'name': 'Marie Curie', 'age': 152}, {'name': 'Tu Youyou', 'age': 89}, {'name': 'Ada Yonath', 'age': 80}, {'name': 'Vera Rubin', 'age': 91}, {'name': 'Sally Ride', 'age': 68})\n"
          ],
          "name": "stdout"
        }
      ]
    },
    {
      "cell_type": "code",
      "metadata": {
        "id": "M6ZcFO4hskRl",
        "colab_type": "code",
        "colab": {}
      },
      "source": [
        ""
      ],
      "execution_count": 0,
      "outputs": []
    }
  ]
}